{
 "cells": [
  {
   "cell_type": "markdown",
   "id": "dc9cbf59",
   "metadata": {},
   "source": [
    "LIBRARIES"
   ]
  },
  {
   "cell_type": "code",
   "execution_count": 1,
   "id": "986c35db",
   "metadata": {},
   "outputs": [],
   "source": [
    "import os\n",
    "import pandas as pd\n",
    "import numpy as np\n",
    "from sklearn.model_selection import train_test_split\n",
    "from keras import optimizers\n",
    "from keras.models import Sequential\n",
    "from keras.regularizers import l2\n",
    "from keras.layers import Dense, Conv2D, Flatten, MaxPool2D, Dropout, BatchNormalization\n",
    "from tensorflow.keras.optimizers import Adam, SGD\n",
    "import cv2 as cv\n",
    "import matplotlib.pyplot as plt\n",
    "import warnings\n",
    "warnings.filterwarnings(\"ignore\")\n",
    "%matplotlib inline"
   ]
  },
  {
   "cell_type": "markdown",
   "id": "c07d9e24",
   "metadata": {},
   "source": [
    "OVERALL PARAMETERS (FOR PREPROCESSING AND MODEL BUILDING)"
   ]
  },
  {
   "cell_type": "code",
   "execution_count": 2,
   "id": "9a3fbd9f",
   "metadata": {},
   "outputs": [],
   "source": [
    "MAIN_SEED = 42  \n",
    "USE_LESS_DATA = True  \n",
    "LR = 0.01  \n",
    "BATCH_SIZE = 32  \n",
    "EPOCH = 20\n",
    "IMAGE_RESIZE_X = 200  \n",
    "IMAGE_RESIZE_Y = 200  \n",
    "KEEP_COLOR = False  "
   ]
  },
  {
   "cell_type": "markdown",
   "id": "6bbcbe66",
   "metadata": {},
   "source": [
    "IMAGE PATHS"
   ]
  },
  {
   "cell_type": "code",
   "execution_count": 3,
   "id": "cf75f18a",
   "metadata": {},
   "outputs": [],
   "source": [
    "training_all_0 = \"C-NMC_Leukemia/training_data/fold_0/all/\"\n",
    "training_hem_0 = \"C-NMC_Leukemia/training_data/fold_0/hem/\"\n",
    "training_all_1 = \"C-NMC_Leukemia/training_data/fold_1/all/\"\n",
    "training_hem_1 = \"C-NMC_Leukemia/training_data/fold_1/hem/\"\n",
    "training_all_2 = \"C-NMC_Leukemia/training_data/fold_2/all/\"\n",
    "training_hem_2 = \"C-NMC_Leukemia/training_data/fold_2/hem/\"\n",
    "validation_data = \"C-NMC_Leukemia/validation_data/C-NMC_test_prelim_phase_data/\""
   ]
  },
  {
   "cell_type": "markdown",
   "id": "af77298d",
   "metadata": {},
   "source": [
    "IMPORTING TRAIN DATA"
   ]
  },
  {
   "cell_type": "code",
   "execution_count": 4,
   "id": "b9367c96",
   "metadata": {},
   "outputs": [
    {
     "data": {
      "text/html": [
       "<div>\n",
       "<style scoped>\n",
       "    .dataframe tbody tr th:only-of-type {\n",
       "        vertical-align: middle;\n",
       "    }\n",
       "\n",
       "    .dataframe tbody tr th {\n",
       "        vertical-align: top;\n",
       "    }\n",
       "\n",
       "    .dataframe thead th {\n",
       "        text-align: right;\n",
       "    }\n",
       "</style>\n",
       "<table border=\"1\" class=\"dataframe\">\n",
       "  <thead>\n",
       "    <tr style=\"text-align: right;\">\n",
       "      <th></th>\n",
       "      <th>image_paths</th>\n",
       "      <th>image_labels</th>\n",
       "    </tr>\n",
       "  </thead>\n",
       "  <tbody>\n",
       "    <tr>\n",
       "      <th>0</th>\n",
       "      <td>C-NMC_Leukemia/training_data/fold_0/all/UID_11...</td>\n",
       "      <td>1</td>\n",
       "    </tr>\n",
       "    <tr>\n",
       "      <th>1</th>\n",
       "      <td>C-NMC_Leukemia/training_data/fold_0/all/UID_11...</td>\n",
       "      <td>1</td>\n",
       "    </tr>\n",
       "    <tr>\n",
       "      <th>2</th>\n",
       "      <td>C-NMC_Leukemia/training_data/fold_0/all/UID_11...</td>\n",
       "      <td>1</td>\n",
       "    </tr>\n",
       "    <tr>\n",
       "      <th>3</th>\n",
       "      <td>C-NMC_Leukemia/training_data/fold_0/all/UID_11...</td>\n",
       "      <td>1</td>\n",
       "    </tr>\n",
       "    <tr>\n",
       "      <th>4</th>\n",
       "      <td>C-NMC_Leukemia/training_data/fold_0/all/UID_11...</td>\n",
       "      <td>1</td>\n",
       "    </tr>\n",
       "    <tr>\n",
       "      <th>...</th>\n",
       "      <td>...</td>\n",
       "      <td>...</td>\n",
       "    </tr>\n",
       "    <tr>\n",
       "      <th>10656</th>\n",
       "      <td>C-NMC_Leukemia/training_data/fold_2/hem/UID_H9...</td>\n",
       "      <td>0</td>\n",
       "    </tr>\n",
       "    <tr>\n",
       "      <th>10657</th>\n",
       "      <td>C-NMC_Leukemia/training_data/fold_2/hem/UID_H9...</td>\n",
       "      <td>0</td>\n",
       "    </tr>\n",
       "    <tr>\n",
       "      <th>10658</th>\n",
       "      <td>C-NMC_Leukemia/training_data/fold_2/hem/UID_H9...</td>\n",
       "      <td>0</td>\n",
       "    </tr>\n",
       "    <tr>\n",
       "      <th>10659</th>\n",
       "      <td>C-NMC_Leukemia/training_data/fold_2/hem/UID_H9...</td>\n",
       "      <td>0</td>\n",
       "    </tr>\n",
       "    <tr>\n",
       "      <th>10660</th>\n",
       "      <td>C-NMC_Leukemia/training_data/fold_2/hem/UID_H9...</td>\n",
       "      <td>0</td>\n",
       "    </tr>\n",
       "  </tbody>\n",
       "</table>\n",
       "<p>10661 rows × 2 columns</p>\n",
       "</div>"
      ],
      "text/plain": [
       "                                             image_paths  image_labels\n",
       "0      C-NMC_Leukemia/training_data/fold_0/all/UID_11...             1\n",
       "1      C-NMC_Leukemia/training_data/fold_0/all/UID_11...             1\n",
       "2      C-NMC_Leukemia/training_data/fold_0/all/UID_11...             1\n",
       "3      C-NMC_Leukemia/training_data/fold_0/all/UID_11...             1\n",
       "4      C-NMC_Leukemia/training_data/fold_0/all/UID_11...             1\n",
       "...                                                  ...           ...\n",
       "10656  C-NMC_Leukemia/training_data/fold_2/hem/UID_H9...             0\n",
       "10657  C-NMC_Leukemia/training_data/fold_2/hem/UID_H9...             0\n",
       "10658  C-NMC_Leukemia/training_data/fold_2/hem/UID_H9...             0\n",
       "10659  C-NMC_Leukemia/training_data/fold_2/hem/UID_H9...             0\n",
       "10660  C-NMC_Leukemia/training_data/fold_2/hem/UID_H9...             0\n",
       "\n",
       "[10661 rows x 2 columns]"
      ]
     },
     "execution_count": 4,
     "metadata": {},
     "output_type": "execute_result"
    }
   ],
   "source": [
    "image_paths = []\n",
    "image_labels = []\n",
    "for data_folder_path in [training_all_0,training_all_1,training_all_2,training_hem_0,training_hem_1,training_hem_2]:\n",
    "    all_images_in_folder = os.listdir(data_folder_path)\n",
    "    for image_path in all_images_in_folder:\n",
    "        image_label = 1 if 'all' in data_folder_path else 0\n",
    "        image_paths.append(data_folder_path + image_path)\n",
    "        image_labels.append(image_label)\n",
    "\n",
    "dict_train = {\"image_paths\":image_paths, \"image_labels\":image_labels}\n",
    "df_train = pd.DataFrame(dict_train)\n",
    "df_train"
   ]
  },
  {
   "cell_type": "markdown",
   "id": "4afc9bb3",
   "metadata": {},
   "source": [
    "IMPORTING VALIDATION DATA"
   ]
  },
  {
   "cell_type": "code",
   "execution_count": 5,
   "id": "3c56b80c",
   "metadata": {},
   "outputs": [
    {
     "data": {
      "text/html": [
       "<div>\n",
       "<style scoped>\n",
       "    .dataframe tbody tr th:only-of-type {\n",
       "        vertical-align: middle;\n",
       "    }\n",
       "\n",
       "    .dataframe tbody tr th {\n",
       "        vertical-align: top;\n",
       "    }\n",
       "\n",
       "    .dataframe thead th {\n",
       "        text-align: right;\n",
       "    }\n",
       "</style>\n",
       "<table border=\"1\" class=\"dataframe\">\n",
       "  <thead>\n",
       "    <tr style=\"text-align: right;\">\n",
       "      <th></th>\n",
       "      <th>image_paths</th>\n",
       "      <th>image_labels</th>\n",
       "    </tr>\n",
       "  </thead>\n",
       "  <tbody>\n",
       "    <tr>\n",
       "      <th>0</th>\n",
       "      <td>C-NMC_Leukemia/validation_data/C-NMC_test_prel...</td>\n",
       "      <td>1</td>\n",
       "    </tr>\n",
       "    <tr>\n",
       "      <th>1</th>\n",
       "      <td>C-NMC_Leukemia/validation_data/C-NMC_test_prel...</td>\n",
       "      <td>1</td>\n",
       "    </tr>\n",
       "    <tr>\n",
       "      <th>2</th>\n",
       "      <td>C-NMC_Leukemia/validation_data/C-NMC_test_prel...</td>\n",
       "      <td>1</td>\n",
       "    </tr>\n",
       "    <tr>\n",
       "      <th>3</th>\n",
       "      <td>C-NMC_Leukemia/validation_data/C-NMC_test_prel...</td>\n",
       "      <td>0</td>\n",
       "    </tr>\n",
       "    <tr>\n",
       "      <th>4</th>\n",
       "      <td>C-NMC_Leukemia/validation_data/C-NMC_test_prel...</td>\n",
       "      <td>1</td>\n",
       "    </tr>\n",
       "    <tr>\n",
       "      <th>...</th>\n",
       "      <td>...</td>\n",
       "      <td>...</td>\n",
       "    </tr>\n",
       "    <tr>\n",
       "      <th>1862</th>\n",
       "      <td>C-NMC_Leukemia/validation_data/C-NMC_test_prel...</td>\n",
       "      <td>1</td>\n",
       "    </tr>\n",
       "    <tr>\n",
       "      <th>1863</th>\n",
       "      <td>C-NMC_Leukemia/validation_data/C-NMC_test_prel...</td>\n",
       "      <td>1</td>\n",
       "    </tr>\n",
       "    <tr>\n",
       "      <th>1864</th>\n",
       "      <td>C-NMC_Leukemia/validation_data/C-NMC_test_prel...</td>\n",
       "      <td>0</td>\n",
       "    </tr>\n",
       "    <tr>\n",
       "      <th>1865</th>\n",
       "      <td>C-NMC_Leukemia/validation_data/C-NMC_test_prel...</td>\n",
       "      <td>1</td>\n",
       "    </tr>\n",
       "    <tr>\n",
       "      <th>1866</th>\n",
       "      <td>C-NMC_Leukemia/validation_data/C-NMC_test_prel...</td>\n",
       "      <td>1</td>\n",
       "    </tr>\n",
       "  </tbody>\n",
       "</table>\n",
       "<p>1867 rows × 2 columns</p>\n",
       "</div>"
      ],
      "text/plain": [
       "                                            image_paths  image_labels\n",
       "0     C-NMC_Leukemia/validation_data/C-NMC_test_prel...             1\n",
       "1     C-NMC_Leukemia/validation_data/C-NMC_test_prel...             1\n",
       "2     C-NMC_Leukemia/validation_data/C-NMC_test_prel...             1\n",
       "3     C-NMC_Leukemia/validation_data/C-NMC_test_prel...             0\n",
       "4     C-NMC_Leukemia/validation_data/C-NMC_test_prel...             1\n",
       "...                                                 ...           ...\n",
       "1862  C-NMC_Leukemia/validation_data/C-NMC_test_prel...             1\n",
       "1863  C-NMC_Leukemia/validation_data/C-NMC_test_prel...             1\n",
       "1864  C-NMC_Leukemia/validation_data/C-NMC_test_prel...             0\n",
       "1865  C-NMC_Leukemia/validation_data/C-NMC_test_prel...             1\n",
       "1866  C-NMC_Leukemia/validation_data/C-NMC_test_prel...             1\n",
       "\n",
       "[1867 rows x 2 columns]"
      ]
     },
     "execution_count": 5,
     "metadata": {},
     "output_type": "execute_result"
    }
   ],
   "source": [
    "df_val = pd.read_csv('C-NMC_Leukemia/validation_data/C-NMC_test_prelim_phase_data_labels.csv')\n",
    "df_val['image_paths'] = df_val['new_names']\n",
    "df_val['image_labels'] = df_val['labels']\n",
    "df_val = df_val[['image_paths', 'image_labels']]\n",
    "df_val['image_paths'] = df_val['image_paths'].apply(lambda x: 'C-NMC_Leukemia/validation_data/C-NMC_test_prelim_phase_data/'+x)\n",
    "df_val"
   ]
  },
  {
   "cell_type": "markdown",
   "id": "fb32556a",
   "metadata": {},
   "source": [
    "REMOVING BACKGROUND AND COLOR USING OTSU THRESHOLDING"
   ]
  },
  {
   "cell_type": "code",
   "execution_count": 6,
   "id": "d03ebfeb",
   "metadata": {},
   "outputs": [],
   "source": [
    "def read_and_crop_image(image_path):\n",
    "    image = cv.imread(image_path)\n",
    "    gray = cv.cvtColor(image, cv.COLOR_BGR2GRAY)\n",
    "    thresh = cv.threshold(gray, 0, 255, cv.THRESH_BINARY_INV + cv.THRESH_OTSU)[1]\n",
    "    result = cv.bitwise_and(image, image, mask=thresh)\n",
    "    result[thresh==0] = [255,255,255] \n",
    "    (x, y, z_) = np.where(result > 0)\n",
    "    mnx = (np.min(x))\n",
    "    mxx = (np.max(x))\n",
    "    mny = (np.min(y))\n",
    "    mxy = (np.max(y))\n",
    "    crop_img = image[mnx:mxx,mny:mxy,:]\n",
    "    border_v = 0\n",
    "    border_h = 0\n",
    "    if (IMAGE_RESIZE_Y/IMAGE_RESIZE_X) >= (crop_img.shape[0]/crop_img.shape[1]):\n",
    "        border_v = int((((IMAGE_RESIZE_Y/IMAGE_RESIZE_X)*crop_img.shape[1])-crop_img.shape[0])/2)\n",
    "    else:\n",
    "        border_h = int((((IMAGE_RESIZE_Y/IMAGE_RESIZE_X)*crop_img.shape[0])-crop_img.shape[1])/2)\n",
    "    \n",
    "    crop_img = cv.copyMakeBorder(crop_img, border_v, border_v, border_h, border_h, cv.BORDER_CONSTANT, 0)\n",
    "    resized_image = cv.resize(crop_img, (IMAGE_RESIZE_X, IMAGE_RESIZE_Y))\n",
    "    if KEEP_COLOR:\n",
    "        return resized_image\n",
    "    else:\n",
    "        return cv.cvtColor(resized_image, cv.COLOR_BGR2GRAY)\n",
    "    return resized_image"
   ]
  },
  {
   "cell_type": "code",
   "execution_count": 7,
   "id": "31cb6111",
   "metadata": {},
   "outputs": [],
   "source": [
    "X_train = df_train['image_paths'].apply(read_and_crop_image).values\n",
    "X_val = df_val['image_paths'].apply(read_and_crop_image).values\n",
    "y_train = df_train['image_labels'].values\n",
    "y_val = df_val['image_labels'].values\n",
    "X_train = np.stack(X_train, axis=0)\n",
    "X_val = np.stack(X_val, axis=0)\n",
    "if not KEEP_COLOR:\n",
    "    X_train = np.expand_dims(X_train, axis=-1)\n",
    "    X_val = np.expand_dims(X_val, axis=-1)"
   ]
  },
  {
   "cell_type": "markdown",
   "id": "355d0531",
   "metadata": {},
   "source": [
    "TRAIN-TEST SPLIT"
   ]
  },
  {
   "cell_type": "code",
   "execution_count": 8,
   "id": "9b268bee",
   "metadata": {},
   "outputs": [],
   "source": [
    "X_train, X_test, y_train, y_test = train_test_split(X_train, y_train, test_size=0.1, random_state=MAIN_SEED)"
   ]
  },
  {
   "cell_type": "markdown",
   "id": "35e19acc",
   "metadata": {},
   "source": [
    "MIN-MAX NORMALIZATION"
   ]
  },
  {
   "cell_type": "code",
   "execution_count": 9,
   "id": "22cfe533",
   "metadata": {},
   "outputs": [],
   "source": [
    "X_train = X_train / 255.0\n",
    "X_val = X_val / 255.0"
   ]
  },
  {
   "cell_type": "markdown",
   "id": "4aef41fc",
   "metadata": {},
   "source": [
    "SETTING INPUT SHAPE"
   ]
  },
  {
   "cell_type": "code",
   "execution_count": 10,
   "id": "01c54e32",
   "metadata": {},
   "outputs": [],
   "source": [
    "if len(X_train.shape) > 3:\n",
    "    input_shape = X_train.shape[1:]\n",
    "else:\n",
    "    input_shape = (X_train.shape[1], X_train.shape[2], 1)"
   ]
  },
  {
   "cell_type": "markdown",
   "id": "771096d8",
   "metadata": {},
   "source": [
    "TRY 1 - CNN LAYER"
   ]
  },
  {
   "cell_type": "code",
   "execution_count": 11,
   "id": "bce11424",
   "metadata": {},
   "outputs": [],
   "source": [
    "first_model = Sequential()\n",
    "first_model.add(Conv2D(filters = 2, kernel_size = (3,3),padding = 'same',activation ='relu', input_shape = input_shape))\n",
    "first_model.add(Conv2D(filters = 4, kernel_size = (3,3),padding = 'same',activation ='relu'))\n",
    "first_model.add(Conv2D(filters = 8, kernel_size = (5,5),padding = 'same',activation ='relu'))\n",
    "first_model.add(MaxPool2D(pool_size=(2,2)))\n",
    "first_model.add(Dropout(0.5))\n",
    "first_model.add(Conv2D(filters = 16, kernel_size = (5,5),padding = 'same',activation ='relu'))\n",
    "first_model.add(MaxPool2D(pool_size=(2,2)))\n",
    "first_model.add(Conv2D(filters = 24, kernel_size = (7,7),padding = 'same',activation ='relu'))\n",
    "first_model.add(Dropout(0.5))\n",
    "first_model.add(Flatten())\n",
    "first_model.add(Dense(64, kernel_regularizer=l2(1e-5), activation = \"relu\"))\n",
    "first_model.add(BatchNormalization())\n",
    "first_model.add(Dense(32, kernel_regularizer=l2(1e-5), activation = \"relu\"))\n",
    "first_model.add(Dense(32, kernel_regularizer=l2(1e-5), activation = \"relu\"))\n",
    "first_model.add(Dense(1, activation = \"sigmoid\"))"
   ]
  },
  {
   "cell_type": "code",
   "execution_count": 12,
   "id": "7e5c8c41",
   "metadata": {},
   "outputs": [
    {
     "name": "stdout",
     "output_type": "stream",
     "text": [
      "Model: \"sequential\"\n",
      "_________________________________________________________________\n",
      " Layer (type)                Output Shape              Param #   \n",
      "=================================================================\n",
      " conv2d (Conv2D)             (None, 200, 200, 2)       20        \n",
      "                                                                 \n",
      " conv2d_1 (Conv2D)           (None, 200, 200, 4)       76        \n",
      "                                                                 \n",
      " conv2d_2 (Conv2D)           (None, 200, 200, 8)       808       \n",
      "                                                                 \n",
      " max_pooling2d (MaxPooling2D  (None, 100, 100, 8)      0         \n",
      " )                                                               \n",
      "                                                                 \n",
      " dropout (Dropout)           (None, 100, 100, 8)       0         \n",
      "                                                                 \n",
      " conv2d_3 (Conv2D)           (None, 100, 100, 16)      3216      \n",
      "                                                                 \n",
      " max_pooling2d_1 (MaxPooling  (None, 50, 50, 16)       0         \n",
      " 2D)                                                             \n",
      "                                                                 \n",
      " conv2d_4 (Conv2D)           (None, 50, 50, 24)        18840     \n",
      "                                                                 \n",
      " dropout_1 (Dropout)         (None, 50, 50, 24)        0         \n",
      "                                                                 \n",
      " flatten (Flatten)           (None, 60000)             0         \n",
      "                                                                 \n",
      " dense (Dense)               (None, 64)                3840064   \n",
      "                                                                 \n",
      " batch_normalization (BatchN  (None, 64)               256       \n",
      " ormalization)                                                   \n",
      "                                                                 \n",
      " dense_1 (Dense)             (None, 32)                2080      \n",
      "                                                                 \n",
      " dense_2 (Dense)             (None, 32)                1056      \n",
      "                                                                 \n",
      " dense_3 (Dense)             (None, 1)                 33        \n",
      "                                                                 \n",
      "=================================================================\n",
      "Total params: 3,866,449\n",
      "Trainable params: 3,866,321\n",
      "Non-trainable params: 128\n",
      "_________________________________________________________________\n"
     ]
    }
   ],
   "source": [
    "first_model.summary()"
   ]
  },
  {
   "cell_type": "code",
   "execution_count": 13,
   "id": "3c67e10c",
   "metadata": {},
   "outputs": [
    {
     "name": "stdout",
     "output_type": "stream",
     "text": [
      "Epoch 1/20\n",
      "300/300 [==============================] - 347s 1s/step - loss: 0.6872 - accuracy: 0.6939 - val_loss: 0.8637 - val_accuracy: 0.6369\n",
      "Epoch 2/20\n",
      "300/300 [==============================] - 344s 1s/step - loss: 0.6513 - accuracy: 0.7078 - val_loss: 0.9079 - val_accuracy: 0.6524\n",
      "Epoch 3/20\n",
      "300/300 [==============================] - 323s 1s/step - loss: 0.6527 - accuracy: 0.7168 - val_loss: 0.9962 - val_accuracy: 0.6369\n",
      "Epoch 4/20\n",
      "300/300 [==============================] - 320s 1s/step - loss: 0.6412 - accuracy: 0.7238 - val_loss: 0.7843 - val_accuracy: 0.6079\n",
      "Epoch 5/20\n",
      "300/300 [==============================] - 323s 1s/step - loss: 0.6368 - accuracy: 0.7231 - val_loss: 0.8689 - val_accuracy: 0.6261\n",
      "Epoch 6/20\n",
      "300/300 [==============================] - 324s 1s/step - loss: 0.6447 - accuracy: 0.7334 - val_loss: 0.8437 - val_accuracy: 0.5988\n",
      "Epoch 7/20\n",
      "300/300 [==============================] - 326s 1s/step - loss: 0.6389 - accuracy: 0.7407 - val_loss: 0.7955 - val_accuracy: 0.6502\n",
      "Epoch 8/20\n",
      "300/300 [==============================] - 324s 1s/step - loss: 0.6300 - accuracy: 0.7432 - val_loss: 0.7787 - val_accuracy: 0.6540\n",
      "Epoch 9/20\n",
      "300/300 [==============================] - 325s 1s/step - loss: 0.6259 - accuracy: 0.7488 - val_loss: 0.8550 - val_accuracy: 0.6551\n",
      "Epoch 10/20\n",
      "300/300 [==============================] - 324s 1s/step - loss: 0.6162 - accuracy: 0.7571 - val_loss: 0.7244 - val_accuracy: 0.6588\n",
      "Epoch 11/20\n",
      "300/300 [==============================] - 327s 1s/step - loss: 0.5990 - accuracy: 0.7655 - val_loss: 0.6879 - val_accuracy: 0.6706\n",
      "Epoch 12/20\n",
      "300/300 [==============================] - 326s 1s/step - loss: 0.5804 - accuracy: 0.7749 - val_loss: 0.7152 - val_accuracy: 0.7022\n",
      "Epoch 13/20\n",
      "300/300 [==============================] - 328s 1s/step - loss: 0.5693 - accuracy: 0.7801 - val_loss: 0.7052 - val_accuracy: 0.7033\n",
      "Epoch 14/20\n",
      "300/300 [==============================] - 327s 1s/step - loss: 0.5663 - accuracy: 0.7847 - val_loss: 0.6477 - val_accuracy: 0.7161\n",
      "Epoch 15/20\n",
      "300/300 [==============================] - 327s 1s/step - loss: 0.5711 - accuracy: 0.7923 - val_loss: 0.6520 - val_accuracy: 0.7151\n",
      "Epoch 16/20\n",
      "300/300 [==============================] - 328s 1s/step - loss: 0.5587 - accuracy: 0.7983 - val_loss: 0.7016 - val_accuracy: 0.6893\n",
      "Epoch 17/20\n",
      "300/300 [==============================] - 327s 1s/step - loss: 0.5606 - accuracy: 0.7938 - val_loss: 0.6664 - val_accuracy: 0.7134\n",
      "Epoch 18/20\n",
      "300/300 [==============================] - 326s 1s/step - loss: 0.5445 - accuracy: 0.8018 - val_loss: 0.7919 - val_accuracy: 0.6749\n",
      "Epoch 19/20\n",
      "300/300 [==============================] - 326s 1s/step - loss: 0.5534 - accuracy: 0.8052 - val_loss: 0.7293 - val_accuracy: 0.7134\n",
      "Epoch 20/20\n",
      "300/300 [==============================] - 325s 1s/step - loss: 0.5731 - accuracy: 0.8029 - val_loss: 0.7339 - val_accuracy: 0.6776\n"
     ]
    }
   ],
   "source": [
    "optimizer = Adam(lr=LR)\n",
    "first_model.compile(optimizer=optimizer, loss='binary_crossentropy', metrics=['accuracy'])\n",
    "first_model_trained = first_model.fit(X_train, y_train, batch_size=BATCH_SIZE, epochs = EPOCH, validation_data = (X_val, y_val))"
   ]
  },
  {
   "cell_type": "markdown",
   "id": "6665f360",
   "metadata": {},
   "source": [
    "TRY 2 - CNN LAYER"
   ]
  },
  {
   "cell_type": "code",
   "execution_count": 14,
   "id": "39b97582",
   "metadata": {},
   "outputs": [
    {
     "name": "stdout",
     "output_type": "stream",
     "text": [
      "Model: \"sequential_1\"\n",
      "_________________________________________________________________\n",
      " Layer (type)                Output Shape              Param #   \n",
      "=================================================================\n",
      " conv2d_5 (Conv2D)           (None, 200, 200, 32)      320       \n",
      "                                                                 \n",
      " max_pooling2d_2 (MaxPooling  (None, 100, 100, 32)     0         \n",
      " 2D)                                                             \n",
      "                                                                 \n",
      " flatten_1 (Flatten)         (None, 320000)            0         \n",
      "                                                                 \n",
      " dense_4 (Dense)             (None, 128)               40960128  \n",
      "                                                                 \n",
      " dense_5 (Dense)             (None, 1)                 129       \n",
      "                                                                 \n",
      "=================================================================\n",
      "Total params: 40,960,577\n",
      "Trainable params: 40,960,577\n",
      "Non-trainable params: 0\n",
      "_________________________________________________________________\n"
     ]
    }
   ],
   "source": [
    "model = Sequential()\n",
    "model.add(Conv2D(32, kernel_size=(3, 3), activation='relu', kernel_initializer='he_uniform', padding='same', input_shape=input_shape))\n",
    "model.add(MaxPool2D(pool_size=(2, 2)))\n",
    "model.add(Flatten())\n",
    "model.add(Dense(128, activation='relu', kernel_initializer='he_uniform'))\n",
    "model.add(Dense(1, activation='sigmoid'))\n",
    "model.summary()"
   ]
  },
  {
   "cell_type": "code",
   "execution_count": 15,
   "id": "9938fd9c",
   "metadata": {},
   "outputs": [
    {
     "name": "stdout",
     "output_type": "stream",
     "text": [
      "Epoch 1/20\n",
      "300/300 [==============================] - 161s 535ms/step - loss: 0.6086 - accuracy: 0.6848 - val_loss: 0.7065 - val_accuracy: 0.6508\n",
      "Epoch 2/20\n",
      "300/300 [==============================] - 155s 518ms/step - loss: 0.5900 - accuracy: 0.6901 - val_loss: 0.7830 - val_accuracy: 0.6518\n",
      "Epoch 3/20\n",
      "300/300 [==============================] - 154s 515ms/step - loss: 0.5781 - accuracy: 0.7004 - val_loss: 0.7555 - val_accuracy: 0.6272\n",
      "Epoch 4/20\n",
      "300/300 [==============================] - 155s 516ms/step - loss: 0.5702 - accuracy: 0.7144 - val_loss: 0.7844 - val_accuracy: 0.6272\n",
      "Epoch 5/20\n",
      "300/300 [==============================] - 154s 515ms/step - loss: 0.5645 - accuracy: 0.7235 - val_loss: 0.8156 - val_accuracy: 0.6288\n",
      "Epoch 6/20\n",
      "300/300 [==============================] - 154s 514ms/step - loss: 0.5544 - accuracy: 0.7333 - val_loss: 0.7494 - val_accuracy: 0.5860\n",
      "Epoch 7/20\n",
      "300/300 [==============================] - 156s 520ms/step - loss: 0.5481 - accuracy: 0.7351 - val_loss: 0.8203 - val_accuracy: 0.6251\n",
      "Epoch 8/20\n",
      "300/300 [==============================] - 155s 518ms/step - loss: 0.5392 - accuracy: 0.7396 - val_loss: 0.7839 - val_accuracy: 0.6047\n",
      "Epoch 9/20\n",
      "300/300 [==============================] - 155s 518ms/step - loss: 0.5348 - accuracy: 0.7421 - val_loss: 0.9107 - val_accuracy: 0.6417\n",
      "Epoch 10/20\n",
      "300/300 [==============================] - 155s 518ms/step - loss: 0.5196 - accuracy: 0.7533 - val_loss: 0.7570 - val_accuracy: 0.6031\n",
      "Epoch 11/20\n",
      "300/300 [==============================] - 162s 540ms/step - loss: 0.5137 - accuracy: 0.7578 - val_loss: 0.8123 - val_accuracy: 0.6224\n",
      "Epoch 12/20\n",
      "300/300 [==============================] - 155s 518ms/step - loss: 0.5055 - accuracy: 0.7615 - val_loss: 0.8176 - val_accuracy: 0.6010\n",
      "Epoch 13/20\n",
      "300/300 [==============================] - 157s 522ms/step - loss: 0.4921 - accuracy: 0.7726 - val_loss: 0.8353 - val_accuracy: 0.6181\n",
      "Epoch 14/20\n",
      "300/300 [==============================] - 156s 520ms/step - loss: 0.4857 - accuracy: 0.7758 - val_loss: 0.8460 - val_accuracy: 0.6133\n",
      "Epoch 15/20\n",
      "300/300 [==============================] - 156s 519ms/step - loss: 0.4708 - accuracy: 0.7844 - val_loss: 0.8453 - val_accuracy: 0.6074\n",
      "Epoch 16/20\n",
      "300/300 [==============================] - 156s 520ms/step - loss: 0.4637 - accuracy: 0.7888 - val_loss: 0.8142 - val_accuracy: 0.5710\n",
      "Epoch 17/20\n",
      "300/300 [==============================] - 154s 515ms/step - loss: 0.4494 - accuracy: 0.7964 - val_loss: 0.7612 - val_accuracy: 0.5822\n",
      "Epoch 18/20\n",
      "300/300 [==============================] - 155s 517ms/step - loss: 0.4353 - accuracy: 0.8051 - val_loss: 0.9770 - val_accuracy: 0.6299\n",
      "Epoch 19/20\n",
      "300/300 [==============================] - 156s 520ms/step - loss: 0.4308 - accuracy: 0.8128 - val_loss: 0.7299 - val_accuracy: 0.5806\n",
      "Epoch 20/20\n",
      "300/300 [==============================] - 156s 519ms/step - loss: 0.4088 - accuracy: 0.8235 - val_loss: 1.0327 - val_accuracy: 0.6331\n"
     ]
    }
   ],
   "source": [
    "opt = SGD(lr=0.001, momentum=0.9)\n",
    "model.compile(optimizer=opt, loss='binary_crossentropy', metrics=['accuracy'])\n",
    "model_trained = model.fit(X_train, y_train, batch_size=BATCH_SIZE, epochs = EPOCH, validation_data = (X_val, y_val))"
   ]
  },
  {
   "cell_type": "markdown",
   "id": "82ca081e",
   "metadata": {},
   "source": [
    "TRY 3 - CNN LAYER"
   ]
  },
  {
   "cell_type": "code",
   "execution_count": 16,
   "id": "33ac12ec",
   "metadata": {},
   "outputs": [
    {
     "name": "stdout",
     "output_type": "stream",
     "text": [
      "Model: \"sequential_2\"\n",
      "_________________________________________________________________\n",
      " Layer (type)                Output Shape              Param #   \n",
      "=================================================================\n",
      " conv2d_6 (Conv2D)           (None, 200, 200, 32)      320       \n",
      "                                                                 \n",
      " conv2d_7 (Conv2D)           (None, 200, 200, 64)      18496     \n",
      "                                                                 \n",
      " max_pooling2d_3 (MaxPooling  (None, 100, 100, 64)     0         \n",
      " 2D)                                                             \n",
      "                                                                 \n",
      " dropout_2 (Dropout)         (None, 100, 100, 64)      0         \n",
      "                                                                 \n",
      " conv2d_8 (Conv2D)           (None, 100, 100, 64)      36928     \n",
      "                                                                 \n",
      " max_pooling2d_4 (MaxPooling  (None, 50, 50, 64)       0         \n",
      " 2D)                                                             \n",
      "                                                                 \n",
      " dropout_3 (Dropout)         (None, 50, 50, 64)        0         \n",
      "                                                                 \n",
      " conv2d_9 (Conv2D)           (None, 50, 50, 128)       73856     \n",
      "                                                                 \n",
      " max_pooling2d_5 (MaxPooling  (None, 25, 25, 128)      0         \n",
      " 2D)                                                             \n",
      "                                                                 \n",
      " dropout_4 (Dropout)         (None, 25, 25, 128)       0         \n",
      "                                                                 \n",
      " flatten_2 (Flatten)         (None, 80000)             0         \n",
      "                                                                 \n",
      " dense_6 (Dense)             (None, 64)                5120064   \n",
      "                                                                 \n",
      " dropout_5 (Dropout)         (None, 64)                0         \n",
      "                                                                 \n",
      " dense_7 (Dense)             (None, 1)                 65        \n",
      "                                                                 \n",
      "=================================================================\n",
      "Total params: 5,249,729\n",
      "Trainable params: 5,249,729\n",
      "Non-trainable params: 0\n",
      "_________________________________________________________________\n"
     ]
    }
   ],
   "source": [
    "new_model = Sequential()\n",
    "new_model.add(Conv2D(32, kernel_size=(3,3), padding= 'same', activation='relu', input_shape= input_shape))\n",
    "new_model.add(Conv2D(64, kernel_size=(3,3), padding= 'same', activation='relu'))\n",
    "new_model.add(MaxPool2D(pool_size=(2,2), strides= (2, 2)))\n",
    "new_model.add(Dropout(0.25))\n",
    "new_model.add(Conv2D(64,kernel_size=(3,3), padding= 'same', activation='relu'))\n",
    "new_model.add(MaxPool2D(pool_size=(2,2), strides= (2, 2)))\n",
    "new_model.add(Dropout(0.25))\n",
    "new_model.add(Conv2D(128,kernel_size=(3,3), padding= 'same', activation='relu'))\n",
    "new_model.add(MaxPool2D((2,2), strides= (2, 2)))\n",
    "new_model.add(Dropout(0.25))\n",
    "new_model.add(Flatten())\n",
    "new_model.add(Dense(64))\n",
    "new_model.add(Dropout(0.5))\n",
    "new_model.add(Dense(1, activation='sigmoid'))\n",
    "new_model.summary()"
   ]
  },
  {
   "cell_type": "code",
   "execution_count": 17,
   "id": "b1806139",
   "metadata": {},
   "outputs": [
    {
     "name": "stdout",
     "output_type": "stream",
     "text": [
      "Epoch 1/20\n",
      "300/300 [==============================] - 882s 3s/step - loss: 0.6204 - accuracy: 0.6843 - recall: 0.9703 - val_loss: 0.6893 - val_accuracy: 0.6508 - val_recall: 0.9959\n",
      "Epoch 2/20\n",
      "300/300 [==============================] - 866s 3s/step - loss: 0.5904 - accuracy: 0.7026 - recall: 0.9513 - val_loss: 0.6728 - val_accuracy: 0.6524 - val_recall: 0.9992\n",
      "Epoch 3/20\n",
      "300/300 [==============================] - 862s 3s/step - loss: 0.5604 - accuracy: 0.7280 - recall: 0.9260 - val_loss: 0.6885 - val_accuracy: 0.6272 - val_recall: 0.9401\n",
      "Epoch 4/20\n",
      "300/300 [==============================] - 863s 3s/step - loss: 0.5326 - accuracy: 0.7504 - recall: 0.9140 - val_loss: 0.7448 - val_accuracy: 0.6588 - val_recall: 0.9795\n",
      "Epoch 5/20\n",
      "300/300 [==============================] - 863s 3s/step - loss: 0.5176 - accuracy: 0.7590 - recall: 0.9098 - val_loss: 0.6828 - val_accuracy: 0.6524 - val_recall: 0.9221\n",
      "Epoch 6/20\n",
      "300/300 [==============================] - 861s 3s/step - loss: 0.4950 - accuracy: 0.7721 - recall: 0.9069 - val_loss: 0.6523 - val_accuracy: 0.6610 - val_recall: 0.9820\n",
      "Epoch 7/20\n",
      "300/300 [==============================] - 863s 3s/step - loss: 0.4811 - accuracy: 0.7776 - recall: 0.9051 - val_loss: 0.6954 - val_accuracy: 0.6647 - val_recall: 0.9737\n",
      "Epoch 8/20\n",
      "300/300 [==============================] - 865s 3s/step - loss: 0.4595 - accuracy: 0.7913 - recall: 0.9095 - val_loss: 0.6222 - val_accuracy: 0.6738 - val_recall: 0.9106\n",
      "Epoch 9/20\n",
      "300/300 [==============================] - 912s 3s/step - loss: 0.4437 - accuracy: 0.7987 - recall: 0.9086 - val_loss: 0.6117 - val_accuracy: 0.6770 - val_recall: 0.8474\n",
      "Epoch 10/20\n",
      "300/300 [==============================] - 1013s 3s/step - loss: 0.4351 - accuracy: 0.8010 - recall: 0.9036 - val_loss: 0.6561 - val_accuracy: 0.6936 - val_recall: 0.9418\n",
      "Epoch 11/20\n",
      "300/300 [==============================] - 997s 3s/step - loss: 0.4215 - accuracy: 0.8092 - recall: 0.9091 - val_loss: 0.6786 - val_accuracy: 0.6845 - val_recall: 0.9500\n",
      "Epoch 12/20\n",
      "300/300 [==============================] - 998s 3s/step - loss: 0.4008 - accuracy: 0.8189 - recall: 0.9074 - val_loss: 0.8384 - val_accuracy: 0.6604 - val_recall: 0.9500\n",
      "Epoch 13/20\n",
      "300/300 [==============================] - 919s 3s/step - loss: 0.3887 - accuracy: 0.8290 - recall: 0.9153 - val_loss: 0.8029 - val_accuracy: 0.6342 - val_recall: 0.8769\n",
      "Epoch 14/20\n",
      "300/300 [==============================] - 920s 3s/step - loss: 0.3819 - accuracy: 0.8280 - recall: 0.9091 - val_loss: 0.7630 - val_accuracy: 0.6706 - val_recall: 0.9237\n",
      "Epoch 15/20\n",
      "300/300 [==============================] - 907s 3s/step - loss: 0.3662 - accuracy: 0.8381 - recall: 0.9101 - val_loss: 0.7312 - val_accuracy: 0.6856 - val_recall: 0.9278\n",
      "Epoch 16/20\n",
      "300/300 [==============================] - 992s 3s/step - loss: 0.3526 - accuracy: 0.8469 - recall: 0.9175 - val_loss: 0.7479 - val_accuracy: 0.6818 - val_recall: 0.9237\n",
      "Epoch 17/20\n",
      "300/300 [==============================] - 945s 3s/step - loss: 0.3452 - accuracy: 0.8505 - recall: 0.9187 - val_loss: 0.8142 - val_accuracy: 0.6851 - val_recall: 0.9130\n",
      "Epoch 18/20\n",
      "300/300 [==============================] - 962s 3s/step - loss: 0.3339 - accuracy: 0.8590 - recall: 0.9255 - val_loss: 0.6927 - val_accuracy: 0.6749 - val_recall: 0.8646\n",
      "Epoch 19/20\n",
      "300/300 [==============================] - 931s 3s/step - loss: 0.3307 - accuracy: 0.8543 - recall: 0.9188 - val_loss: 0.8625 - val_accuracy: 0.6947 - val_recall: 0.9327\n",
      "Epoch 20/20\n",
      "300/300 [==============================] - 933s 3s/step - loss: 0.3188 - accuracy: 0.8627 - recall: 0.9214 - val_loss: 0.8393 - val_accuracy: 0.6904 - val_recall: 0.9532\n"
     ]
    }
   ],
   "source": [
    "new_model.compile(loss='binary_crossentropy', optimizer='adam', metrics=['accuracy', 'Recall'])\n",
    "newmodel_trained = new_model.fit(X_train, y_train, batch_size=BATCH_SIZE, epochs = EPOCH, validation_data = (X_val, y_val))"
   ]
  },
  {
   "cell_type": "code",
   "execution_count": 18,
   "id": "85378d59",
   "metadata": {},
   "outputs": [
    {
     "data": {
      "image/png": "[encoded data removed]",
      "text/plain": [
       "<Figure size 432x288 with 1 Axes>"
      ]
     },
     "metadata": {
      "needs_background": "light"
     },
     "output_type": "display_data"
    }
   ],
   "source": [
    "plt.plot(first_model_trained.history['accuracy'])\n",
    "plt.plot(first_model_trained.history['val_accuracy'])\n",
    "plt.title('Model Accuracy')\n",
    "plt.ylabel('accuracy')\n",
    "plt.xlabel('epoch')\n",
    "plt.legend(['train', 'val'], loc='upper left')\n",
    "plt.show()"
   ]
  },
  {
   "cell_type": "code",
   "execution_count": 19,
   "id": "065b700a",
   "metadata": {},
   "outputs": [
    {
     "data": {
      "image/png": "[encoded data removed]",
      "text/plain": [
       "<Figure size 432x288 with 1 Axes>"
      ]
     },
     "metadata": {
      "needs_background": "light"
     },
     "output_type": "display_data"
    }
   ],
   "source": [
    "plt.plot(first_model_trained.history['loss'])\n",
    "plt.plot(first_model_trained.history['val_loss'])\n",
    "plt.title('Model Loss')\n",
    "plt.ylabel('loss')\n",
    "plt.xlabel('epoch')\n",
    "plt.legend(['train', 'val'], loc='upper left')\n",
    "plt.show()"
   ]
  },
  {
   "cell_type": "code",
   "execution_count": 20,
   "id": "36e25cd9",
   "metadata": {},
   "outputs": [
    {
     "data": {
      "image/png": "[encoded data removed]",
      "text/plain": [
       "<Figure size 432x288 with 1 Axes>"
      ]
     },
     "metadata": {
      "needs_background": "light"
     },
     "output_type": "display_data"
    }
   ],
   "source": [
    "plt.plot(model_trained.history['accuracy'])\n",
    "plt.plot(model_trained.history['val_accuracy'])\n",
    "plt.title('Model Accuracy')\n",
    "plt.ylabel('accuracy')\n",
    "plt.xlabel('epoch')\n",
    "plt.legend(['train', 'val'], loc='upper left')\n",
    "plt.show()"
   ]
  },
  {
   "cell_type": "code",
   "execution_count": 21,
   "id": "851d6ac8",
   "metadata": {},
   "outputs": [
    {
     "data": {
      "image/png": "[encoded data removed]",
      "text/plain": [
       "<Figure size 432x288 with 1 Axes>"
      ]
     },
     "metadata": {
      "needs_background": "light"
     },
     "output_type": "display_data"
    }
   ],
   "source": [
    "plt.plot(model_trained.history['loss'])\n",
    "plt.plot(model_trained.history['val_loss'])\n",
    "plt.title('Model Loss')\n",
    "plt.ylabel('loss')\n",
    "plt.xlabel('epoch')\n",
    "plt.legend(['train', 'val'], loc='upper left')\n",
    "plt.show()"
   ]
  },
  {
   "cell_type": "code",
   "execution_count": 22,
   "id": "12d68714",
   "metadata": {},
   "outputs": [
    {
     "data": {
      "image/png": "[encoded data removed]",
      "text/plain": [
       "<Figure size 432x288 with 1 Axes>"
      ]
     },
     "metadata": {
      "needs_background": "light"
     },
     "output_type": "display_data"
    }
   ],
   "source": [
    "plt.plot(newmodel_trained.history['accuracy'])\n",
    "plt.plot(newmodel_trained.history['val_accuracy'])\n",
    "plt.title('Model Accuracy')\n",
    "plt.ylabel('accuracy')\n",
    "plt.xlabel('epoch')\n",
    "plt.legend(['train', 'val'], loc='upper left')\n",
    "plt.show()"
   ]
  },
  {
   "cell_type": "code",
   "execution_count": 23,
   "id": "e13235be",
   "metadata": {},
   "outputs": [
    {
     "data": {
      "image/png": "[encoded data removed]",
      "text/plain": [
       "<Figure size 432x288 with 1 Axes>"
      ]
     },
     "metadata": {
      "needs_background": "light"
     },
     "output_type": "display_data"
    }
   ],
   "source": [
    "plt.plot(newmodel_trained.history['loss'])\n",
    "plt.plot(newmodel_trained.history['val_loss'])\n",
    "plt.title('Model Loss')\n",
    "plt.ylabel('loss')\n",
    "plt.xlabel('epoch')\n",
    "plt.legend(['train', 'val'], loc='upper left')\n",
    "plt.show()"
   ]
  },
  {
   "cell_type": "code",
   "execution_count": null,
   "id": "3dceb107",
   "metadata": {},
   "outputs": [],
   "source": []
  }
 ],
 "metadata": {
  "kernelspec": {
   "display_name": "Python 3 (ipykernel)",
   "language": "python",
   "name": "python3"
  },
  "language_info": {
   "codemirror_mode": {
    "name": "ipython",
    "version": 3
   },
   "file_extension": ".py",
   "mimetype": "text/x-python",
   "name": "python",
   "nbconvert_exporter": "python",
   "pygments_lexer": "ipython3",
   "version": "3.9.12"
  }
 },
 "nbformat": 4,
 "nbformat_minor": 5
}
